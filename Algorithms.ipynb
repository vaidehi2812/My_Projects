{
 "cells": [
  {
   "cell_type": "code",
   "execution_count": 4,
   "metadata": {},
   "outputs": [],
   "source": [
    "import pandas as pd\n",
    "import numpy as np\n",
    "from sklearn.preprocessing import MinMaxScaler\n",
    "from sklearn.model_selection import train_test_split\n",
    "from sklearn.linear_model import LogisticRegression\n",
    "from sklearn.metrics import accuracy_score, classification_report, confusion_matrix\n",
    "from sklearn.svm import SVC\n",
    "from sklearn import svm\n",
    "from sklearn import tree\n",
    "from sklearn.naive_bayes import GaussianNB\n",
    "from sklearn.neighbors import KNeighborsClassifier\n",
    "%matplotlib inline\n",
    "import matplotlib.pyplot as plt"
   ]
  },
  {
   "cell_type": "code",
   "execution_count": 2,
   "metadata": {},
   "outputs": [],
   "source": [
    "class algo_classification:\n",
    "    def read_data(self):\n",
    "        self.data= pd.read_csv(r\"final.csv\")\n",
    "        #print(self.data.head(5))\n",
    "    \n",
    "    def normalize_data(self):\n",
    "        self.data_new = self.data[['telecommuting','has_company_logo','has_questions','employment_type','required_education','min_salary','max_salary']]\n",
    "        self.minmax_scale= MinMaxScaler(feature_range=(0,1))\n",
    "        self.scaled_feature = minmax_scale.fit_transform(data_new)\n",
    "    \n",
    "    def define_algorithm(self):\n",
    "        print(\"Select the algorithm of your choice \\n1) Logistic Regression \\n2) SVM \\n3) Decision Tree \\n4) Naive Bayes \\n5) KNN\")\n",
    "        self.name = (input())\n",
    "        self.x = self.scaled_feature\n",
    "        self.y = self.data['fraudulent']\n",
    "        self.xtrain, self.xtest, self.ytrain, self.ytest = train_test_split(self.x,self.y,train_size=0.3,random_state=0)\n",
    "        \n",
    "        if (self.name == \"Logistic Regression\"):\n",
    "            log = LogisticRegression()\n",
    "            log.fit(self.xtrain,self.ytrain)\n",
    "            self.y_pred = log.predict(self.xtest)\n",
    "            print(\"Accuracy Metric of\",self.name,\"is\",accuracy_score(self.y_pred,self.ytest))\n",
    "            \n",
    "            #plt.plot(y_pred,ytest)\n",
    "            \n",
    "        elif(self.name == \"SVM\"):\n",
    "            print(\"Select your kernel \\n1) Linear \\n2) Polynomial \\n3) Sigmoid \\n4) Radial Basis Function rbf\")\n",
    "            kernel = str(input())\n",
    "            \n",
    "            clf = svm.SVC(kernel=kernel)\n",
    "            clf.fit(self.xtrain,self.ytrain)\n",
    "            self.y_pred = clf.predict(self.xtest)\n",
    "            print(\"Accuracy Metric of\",self.name,\"is\",accuracy_score(self.y_pred,self.ytest))\n",
    "            \n",
    "            #plt.scatter(y_pred,ytest)\n",
    "            \n",
    "        elif(self.name == 'Decision Tree'):\n",
    "            clf = tree.DecisionTreeClassifier(criterion='entropy',max_depth=2)\n",
    "            clf.fit(self.xtrain,self.ytrain)\n",
    "            self.y_pred = clf.predict(self.xtest)\n",
    "            print(\"Accuracy Metric of\",self.name,\"is\",accuracy_score(self.y_pred,self.ytest))\n",
    "            \n",
    "            tree.plot_tree(clf)\n",
    "        \n",
    "        elif(self.name == 'Naive Bayes'):\n",
    "            model = GaussianNB()\n",
    "            model.fit(self.xtrain,self.ytrain)\n",
    "            self.y_pred = model.predict(self.xtest)\n",
    "            print(\"Accuracy Metric of\",self.name,\"is\",accuracy_score(self.y_pred,self.ytest))\n",
    "        \n",
    "        elif(self.name == 'KNN'):\n",
    "            knn = KNeighborsClassifier(n_neighbors=5)\n",
    "            knn.fit(self.xtrain,self.ytrain)\n",
    "            self.y_pred = knn.predict(self.xtest)\n",
    "            print(\"Accuracy Metric of\",self.name,\"is\",accuracy_score(self.y_pred,self.ytest))"
   ]
  },
  {
   "cell_type": "code",
   "execution_count": 3,
   "metadata": {},
   "outputs": [
    {
     "ename": "NameError",
     "evalue": "name 'pd' is not defined",
     "output_type": "error",
     "traceback": [
      "\u001b[1;31m---------------------------------------------------------------------------\u001b[0m",
      "\u001b[1;31mNameError\u001b[0m                                 Traceback (most recent call last)",
      "\u001b[1;32m<ipython-input-3-1b183f7773e7>\u001b[0m in \u001b[0;36m<module>\u001b[1;34m()\u001b[0m\n\u001b[0;32m      1\u001b[0m \u001b[0malgo\u001b[0m \u001b[1;33m=\u001b[0m \u001b[0malgo_classification\u001b[0m\u001b[1;33m(\u001b[0m\u001b[1;33m)\u001b[0m\u001b[1;33m\u001b[0m\u001b[0m\n\u001b[1;32m----> 2\u001b[1;33m \u001b[0malgo\u001b[0m\u001b[1;33m.\u001b[0m\u001b[0mread_data\u001b[0m\u001b[1;33m(\u001b[0m\u001b[1;33m)\u001b[0m\u001b[1;33m\u001b[0m\u001b[0m\n\u001b[0m\u001b[0;32m      3\u001b[0m \u001b[0malgo\u001b[0m\u001b[1;33m.\u001b[0m\u001b[0mnormalize_data\u001b[0m\u001b[1;33m(\u001b[0m\u001b[1;33m)\u001b[0m\u001b[1;33m\u001b[0m\u001b[0m\n\u001b[0;32m      4\u001b[0m \u001b[0malgo\u001b[0m\u001b[1;33m.\u001b[0m\u001b[0mdefine_algorithm\u001b[0m\u001b[1;33m(\u001b[0m\u001b[1;33m)\u001b[0m\u001b[1;33m\u001b[0m\u001b[0m\n",
      "\u001b[1;32m<ipython-input-2-97758fcb3581>\u001b[0m in \u001b[0;36mread_data\u001b[1;34m(self)\u001b[0m\n\u001b[0;32m      1\u001b[0m \u001b[1;32mclass\u001b[0m \u001b[0malgo_classification\u001b[0m\u001b[1;33m:\u001b[0m\u001b[1;33m\u001b[0m\u001b[0m\n\u001b[0;32m      2\u001b[0m     \u001b[1;32mdef\u001b[0m \u001b[0mread_data\u001b[0m\u001b[1;33m(\u001b[0m\u001b[0mself\u001b[0m\u001b[1;33m)\u001b[0m\u001b[1;33m:\u001b[0m\u001b[1;33m\u001b[0m\u001b[0m\n\u001b[1;32m----> 3\u001b[1;33m         \u001b[0mself\u001b[0m\u001b[1;33m.\u001b[0m\u001b[0mdata\u001b[0m\u001b[1;33m=\u001b[0m \u001b[0mpd\u001b[0m\u001b[1;33m.\u001b[0m\u001b[0mread_csv\u001b[0m\u001b[1;33m(\u001b[0m\u001b[1;34mr\"final.csv\"\u001b[0m\u001b[1;33m)\u001b[0m\u001b[1;33m\u001b[0m\u001b[0m\n\u001b[0m\u001b[0;32m      4\u001b[0m         \u001b[1;31m#print(self.data.head(5))\u001b[0m\u001b[1;33m\u001b[0m\u001b[1;33m\u001b[0m\u001b[0m\n\u001b[0;32m      5\u001b[0m \u001b[1;33m\u001b[0m\u001b[0m\n",
      "\u001b[1;31mNameError\u001b[0m: name 'pd' is not defined"
     ]
    }
   ],
   "source": [
    "algo = algo_classification()\n",
    "algo.read_data()\n",
    "algo.normalize_data()\n",
    "algo.define_algorithm()"
   ]
  },
  {
   "cell_type": "code",
   "execution_count": null,
   "metadata": {},
   "outputs": [],
   "source": []
  }
 ],
 "metadata": {
  "kernelspec": {
   "display_name": "Python 3",
   "language": "python",
   "name": "python3"
  },
  "language_info": {
   "codemirror_mode": {
    "name": "ipython",
    "version": 3
   },
   "file_extension": ".py",
   "mimetype": "text/x-python",
   "name": "python",
   "nbconvert_exporter": "python",
   "pygments_lexer": "ipython3",
   "version": "3.7.0"
  }
 },
 "nbformat": 4,
 "nbformat_minor": 2
}
